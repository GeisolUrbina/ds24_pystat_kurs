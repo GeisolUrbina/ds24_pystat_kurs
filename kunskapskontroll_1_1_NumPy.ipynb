{
 "cells": [
  {
   "cell_type": "markdown",
   "id": "dacf74e6",
   "metadata": {},
   "source": [
    "# NumPy"
   ]
  },
  {
   "cell_type": "markdown",
   "id": "01b2bf34",
   "metadata": {},
   "source": [
    "Read the links: https://numpy.org/doc/stable/user/quickstart.html  and https://numpy.org/doc/stable/user/basics.broadcasting.html  before solving the exercises. "
   ]
  },
  {
   "cell_type": "code",
   "execution_count": 2,
   "id": "1f79e4a6",
   "metadata": {},
   "outputs": [],
   "source": [
    "import numpy as np"
   ]
  },
  {
   "cell_type": "markdown",
   "id": "7dae6889",
   "metadata": {},
   "source": [
    "### Print out the dimension (number of axes), shape, size and the datatype of the matrix A."
   ]
  },
  {
   "cell_type": "code",
   "execution_count": 14,
   "id": "7b3678cd",
   "metadata": {},
   "outputs": [
    {
     "name": "stdout",
     "output_type": "stream",
     "text": [
      "Dimensionen av matrix A är: 2\n",
      "Array har: (3, 5)\n",
      "Totalt element i array: 15\n",
      "Datatype: int64\n"
     ]
    }
   ],
   "source": [
    "A = np.arange(1, 16).reshape(3,5)\n",
    "\n",
    "A.ndim \n",
    "print(\"Dimensionen av matrix A är:\", A.ndim)\n",
    "A.shape\n",
    "print(\"Array har:\", A.shape)\n",
    "A.size      \n",
    "print(\"Totalt element i array:\", A.size)\n",
    "A.dtype\n",
    "print(\"Datatype:\", A.dtype)\n"
   ]
  },
  {
   "cell_type": "markdown",
   "id": "e56d2a96",
   "metadata": {},
   "source": [
    "### Do the following computations on the matrices B and C: \n",
    "* Elementwise subtraction. \n",
    "* Elementwise multiplication. \n",
    "* Matrix multiplication (by default you should use the @ operator)."
   ]
  },
  {
   "cell_type": "code",
   "execution_count": 19,
   "id": "a7053fbb",
   "metadata": {},
   "outputs": [
    {
     "name": "stdout",
     "output_type": "stream",
     "text": [
      "[[1 2 3]\n",
      " [4 5 6]\n",
      " [7 8 9]]\n",
      "\n",
      "[[2. 2. 2.]\n",
      " [2. 2. 2.]\n",
      " [2. 2. 2.]]\n",
      "\n",
      "Substraktion: \n",
      " [[-1.  0.  1.]\n",
      " [ 2.  3.  4.]\n",
      " [ 5.  6.  7.]]\n",
      "\n",
      "Multiplikation: \n",
      " [[ 2.  4.  6.]\n",
      " [ 8. 10. 12.]\n",
      " [14. 16. 18.]]\n",
      "\n",
      "Matris multiplikation: \n",
      " [[12. 12. 12.]\n",
      " [30. 30. 30.]\n",
      " [48. 48. 48.]]\n"
     ]
    }
   ],
   "source": [
    "B = np.arange(1, 10).reshape(3, 3)\n",
    "C = np.ones((3, 3))*2\n",
    "\n",
    "print(B)\n",
    "print()\n",
    "print(C)\n",
    "print()\n",
    "\n",
    "resultat = B - C\n",
    "print(\"Substraktion:\",\"\\n\", resultat)\n",
    "print()\n",
    "\n",
    "Multiplikation = B * C\n",
    "print(\"Multiplikation:\",\"\\n\", Multiplikation)\n",
    "print()\n",
    "\n",
    "Matris_resultat = B @ C\n",
    "print(\"Matris multiplikation:\",\"\\n\", Matris_resultat)\n"
   ]
  },
  {
   "cell_type": "markdown",
   "id": "96030d53",
   "metadata": {},
   "source": [
    "### Do the following calculations on the matrix:\n",
    "* Exponentiate each number elementwise (use the np.exp function).\n",
    "\n",
    "* Calculate the minimum value in the whole matrix. \n",
    "* Calculcate the minimum value in each row. \n",
    "* Calculcate the minimum value in each column. \n",
    "\n",
    "\n",
    "* Find the index value for the minimum value in the whole matrix (hint: use np.argmin).\n",
    "* Find the index value for the minimum value in each row (hint: use np.argmin).\n",
    "\n",
    "\n",
    "* Calculate the sum for all elements.\n",
    "* Calculate the mean for each column. \n",
    "* Calculate the median for each column. "
   ]
  },
  {
   "cell_type": "code",
   "execution_count": 20,
   "id": "f8a9166b",
   "metadata": {},
   "outputs": [
    {
     "name": "stdout",
     "output_type": "stream",
     "text": [
      "[[1 2 3]\n",
      " [4 5 6]\n",
      " [7 8 9]]\n"
     ]
    }
   ],
   "source": [
    "B = np.arange(1, 10).reshape(3, 3)\n",
    "print(B)"
   ]
  },
  {
   "cell_type": "code",
   "execution_count": 21,
   "id": "f03f24f7",
   "metadata": {},
   "outputs": [
    {
     "name": "stdout",
     "output_type": "stream",
     "text": [
      "[[2.71828183e+00 7.38905610e+00 2.00855369e+01]\n",
      " [5.45981500e+01 1.48413159e+02 4.03428793e+02]\n",
      " [1.09663316e+03 2.98095799e+03 8.10308393e+03]]\n"
     ]
    }
   ],
   "source": [
    "# Exponentiate each number elementwise. \n",
    "resultat = np.exp(B)\n",
    "print(resultat)"
   ]
  },
  {
   "cell_type": "code",
   "execution_count": 22,
   "id": "9412b9d6",
   "metadata": {},
   "outputs": [
    {
     "name": "stdout",
     "output_type": "stream",
     "text": [
      "The minimun value is: 1\n"
     ]
    }
   ],
   "source": [
    "# Calculate the minimun value in whole matrix \n",
    "my_matrix = np.min(B)\n",
    "print(\"The minimun value is:\", my_matrix)"
   ]
  },
  {
   "cell_type": "code",
   "execution_count": 31,
   "id": "cc37dd46",
   "metadata": {},
   "outputs": [
    {
     "name": "stdout",
     "output_type": "stream",
     "text": [
      "[[1 2 3]\n",
      " [4 5 6]\n",
      " [7 8 9]]\n",
      "The minimun value in each row is: [1 4 7]\n"
     ]
    }
   ],
   "source": [
    " # The minimun value in each row.\n",
    "B = np.arange(1, 10).reshape(3, 3)\n",
    "print(B)\n",
    "my_value = B.min(axis = 1)\n",
    "print(\"The minimun value in each row is:\", my_value)"
   ]
  },
  {
   "cell_type": "code",
   "execution_count": 32,
   "id": "308ef1a6",
   "metadata": {},
   "outputs": [
    {
     "data": {
      "text/plain": [
       "array([1, 2, 3])"
      ]
     },
     "execution_count": 32,
     "metadata": {},
     "output_type": "execute_result"
    }
   ],
   "source": [
    "# The minimun value in each column.\n",
    "B.min(axis = 0)"
   ]
  },
  {
   "cell_type": "code",
   "execution_count": 38,
   "id": "e9dc42ac",
   "metadata": {},
   "outputs": [
    {
     "name": "stdout",
     "output_type": "stream",
     "text": [
      "[[1 2 3]\n",
      " [4 5 6]\n",
      " [7 8 9]]\n",
      "Index: 0\n"
     ]
    }
   ],
   "source": [
    "# The index value for the minimum value in the matrix.\n",
    "B = np.arange(1, 10).reshape(3, 3)\n",
    "print(B)\n",
    "\n",
    "min_value = np.argmin(B)\n",
    "print(\"Index:\", min_value)"
   ]
  },
  {
   "cell_type": "code",
   "execution_count": 44,
   "id": "2478135b",
   "metadata": {},
   "outputs": [
    {
     "data": {
      "text/plain": [
       "np.int64(45)"
      ]
     },
     "execution_count": 44,
     "metadata": {},
     "output_type": "execute_result"
    }
   ],
   "source": [
    "# Sum for all element.\n",
    "B.sum()"
   ]
  },
  {
   "cell_type": "code",
   "execution_count": 48,
   "id": "28918cbc",
   "metadata": {},
   "outputs": [
    {
     "name": "stdout",
     "output_type": "stream",
     "text": [
      "The mean for each column: [4. 5. 6.]\n"
     ]
    }
   ],
   "source": [
    "# The mean for each column.\n",
    "column_m = np.mean(B, axis = 0)\n",
    "print(\"The mean for each column:\", column_m)"
   ]
  },
  {
   "cell_type": "code",
   "execution_count": 46,
   "id": "e11513f7",
   "metadata": {},
   "outputs": [
    {
     "name": "stdout",
     "output_type": "stream",
     "text": [
      "The median for each column: [4. 5. 6.]\n"
     ]
    }
   ],
   "source": [
    "# The median\n",
    "median_column = np.median(B, axis = 0)\n",
    "print(\"The median for each column:\", median_column)"
   ]
  },
  {
   "cell_type": "markdown",
   "id": "541eb7ba",
   "metadata": {},
   "source": [
    "### What does it mean when you provide fewer indices than axes when slicing? See example below."
   ]
  },
  {
   "cell_type": "code",
   "execution_count": 49,
   "id": "9c8abf56",
   "metadata": {},
   "outputs": [
    {
     "name": "stdout",
     "output_type": "stream",
     "text": [
      "[[ 1  2  3  4  5]\n",
      " [ 6  7  8  9 10]\n",
      " [11 12 13 14 15]]\n"
     ]
    }
   ],
   "source": [
    "print(A)"
   ]
  },
  {
   "cell_type": "code",
   "execution_count": 50,
   "id": "69415f7b",
   "metadata": {},
   "outputs": [
    {
     "data": {
      "text/plain": [
       "array([ 6,  7,  8,  9, 10])"
      ]
     },
     "execution_count": 50,
     "metadata": {},
     "output_type": "execute_result"
    }
   ],
   "source": [
    "A[1]"
   ]
  },
  {
   "cell_type": "markdown",
   "id": "6c53541b",
   "metadata": {},
   "source": [
    "**Answer:**"
   ]
  },
  {
   "cell_type": "code",
   "execution_count": null,
   "id": "de01e120",
   "metadata": {},
   "outputs": [],
   "source": [
    "# Slicing är ett sätt att extrahera delar av en array,\n",
    "# vi kan göra detta genom skriva array[1] eller i det här fallet A[1].\n",
    "# Koden har hämtat hela den andra raden i array A[1]."
   ]
  },
  {
   "cell_type": "markdown",
   "id": "6652d0c9",
   "metadata": {},
   "source": [
    "### Iterating over multidimensional arrays is done with respect to the first axis, so in the example below we iterate trough the rows. If you would like to iterate through the array *elementwise*, how would you do that?"
   ]
  },
  {
   "cell_type": "code",
   "execution_count": 51,
   "id": "9459864f",
   "metadata": {},
   "outputs": [
    {
     "data": {
      "text/plain": [
       "array([[ 1,  2,  3,  4,  5],\n",
       "       [ 6,  7,  8,  9, 10],\n",
       "       [11, 12, 13, 14, 15]])"
      ]
     },
     "execution_count": 51,
     "metadata": {},
     "output_type": "execute_result"
    }
   ],
   "source": [
    "A"
   ]
  },
  {
   "cell_type": "code",
   "execution_count": 52,
   "id": "a671bb5a",
   "metadata": {},
   "outputs": [
    {
     "name": "stdout",
     "output_type": "stream",
     "text": [
      "[1 2 3 4 5]\n",
      "[ 6  7  8  9 10]\n",
      "[11 12 13 14 15]\n"
     ]
    }
   ],
   "source": [
    "for i in A:\n",
    "    print(i)"
   ]
  },
  {
   "cell_type": "code",
   "execution_count": 64,
   "id": "0a48018c",
   "metadata": {},
   "outputs": [
    {
     "name": "stdout",
     "output_type": "stream",
     "text": [
      "1\n",
      "2\n",
      "3\n",
      "4\n",
      "5\n",
      "6\n",
      "7\n",
      "8\n",
      "9\n",
      "10\n",
      "11\n",
      "12\n",
      "13\n",
      "14\n",
      "15\n"
     ]
    }
   ],
   "source": [
    "for i in np.nditer(A):\n",
    "    print(i)"
   ]
  },
  {
   "cell_type": "markdown",
   "id": "608a2583",
   "metadata": {},
   "source": [
    "### Explain what the code below does. More specifically, b has three axes - what does this mean? "
   ]
  },
  {
   "cell_type": "code",
   "execution_count": 65,
   "id": "f8f9b26f",
   "metadata": {},
   "outputs": [
    {
     "name": "stdout",
     "output_type": "stream",
     "text": [
      "[ 0  1  2  3  4  5  6  7  8  9 10 11 12 13 14 15 16 17 18 19 20 21 22 23\n",
      " 24 25 26 27 28 29]\n",
      "\n",
      "[[[ 0  1  2  3  4]\n",
      "  [ 5  6  7  8  9]\n",
      "  [10 11 12 13 14]]\n",
      "\n",
      " [[15 16 17 18 19]\n",
      "  [20 21 22 23 24]\n",
      "  [25 26 27 28 29]]]\n"
     ]
    }
   ],
   "source": [
    "a = np.arange(30)  # skapar en matris/array med värden från 0 till 30, men det inte inkl. 30. \n",
    "b = a.reshape((2, 3, -1)) # används för att ändra formen på array, utan ändra data. Koden ska skapa 2 block med 3 dimensioner.\n",
    "                          # -1 ska räkna ut storleken på b baserat på elementer som finns i array a. \n",
    "  \n",
    "print(a)    #Skriver ut elementer på array a.\n",
    "print()\n",
    "\n",
    "print(b) # Ska skriva ut 2 block med 3 axis, utan ändra data i den ursprungliga arrayen. "
   ]
  },
  {
   "cell_type": "markdown",
   "id": "ab5933d5",
   "metadata": {},
   "source": [
    "### Broadcasting\n",
    "**Read the following link about broadcasting: https://numpy.org/doc/stable/user/basics.broadcasting.html#basics-broadcasting**"
   ]
  },
  {
   "cell_type": "markdown",
   "id": "039805ba",
   "metadata": {},
   "source": [
    "# Remark on Broadcasting when doing Linear Algebra calculations in Python. "
   ]
  },
  {
   "cell_type": "markdown",
   "id": "c4bcc147",
   "metadata": {},
   "source": [
    "### From the mathematical rules of matrix addition, the operation below (m1 + m2) does not make sense. The reason is that matrix addition requires two matrices of the same size. In Python however, it works due to broadcasting rules in NumPy. So you must be careful when doing Linear Algebra calculations in Python since they do not follow the \"mathematical rules\". This can however easily be handled by doing some simple programming, for example validating that two matrices have the same shape is easy if you for instance want to add two matrices. "
   ]
  },
  {
   "cell_type": "code",
   "execution_count": 13,
   "id": "1fd46778",
   "metadata": {},
   "outputs": [
    {
     "name": "stdout",
     "output_type": "stream",
     "text": [
      "[[2 3]\n",
      " [4 5]]\n"
     ]
    }
   ],
   "source": [
    "m1 = np.array([[1, 2], [3, 4]])\n",
    "m2 = np.array([1, 1])\n",
    "print(m1 + m2)\n"
   ]
  },
  {
   "cell_type": "markdown",
   "id": "047d6576",
   "metadata": {},
   "source": [
    "### The example below would also not be allowed if following the \"mathematical rules\" in Linear Algebra. But it works due to broadcasting in NumPy. "
   ]
  },
  {
   "cell_type": "code",
   "execution_count": 14,
   "id": "5e6ef2e4",
   "metadata": {},
   "outputs": [
    {
     "name": "stdout",
     "output_type": "stream",
     "text": [
      "[2 3 4]\n"
     ]
    }
   ],
   "source": [
    "v1 = np.array([1, 2, 3])\n",
    "print(v1 + 1)"
   ]
  },
  {
   "cell_type": "code",
   "execution_count": 18,
   "id": "e2cbae26",
   "metadata": {},
   "outputs": [
    {
     "name": "stdout",
     "output_type": "stream",
     "text": [
      "[[1 2]\n",
      " [3 4]]\n",
      "[2 2]\n",
      "\n",
      "[[3 4]\n",
      " [5 6]]\n",
      "\n",
      "[[2 4]\n",
      " [6 8]]\n"
     ]
    }
   ],
   "source": [
    "A = np.arange(1, 5).reshape(2,2)\n",
    "print(A)\n",
    "\n",
    "b = np.array([2, 2])\n",
    "print(b)\n",
    "print()\n",
    "\n",
    "print(A + b)\n",
    "print()\n",
    "\n",
    "print(A * b)"
   ]
  },
  {
   "cell_type": "markdown",
   "id": "722fd5cd",
   "metadata": {},
   "source": [
    "# Vector- and matrix algebra Exercises"
   ]
  },
  {
   "cell_type": "markdown",
   "id": "b63a3081-d976-4d9f-bfd0-a63917e79f7d",
   "metadata": {},
   "source": [
    "**Now you are going to create a function that can be reused every time you add or multiply matrices. The function is created so that we do the addition and multiplication according to the rules of vector- and matrix algebra.**\n",
    "\n",
    "**Create a function \"add_mult_matrices\" that takes two matrices as input arguments (validate that the input are of the type numpy.ndarray by using the isinstance function), a third argument that is either 'add' or 'multiply' that specifies if you want to add or multiply the matrices (validate that the third argument is either 'add' or 'multiply'). When doing matrix addition, validate that the matrices have the same size. When doing matrix multiplication, validate that the sizes conform (i.e. number of columns in the first matrix is equal to the number of rows in the second matrix).**"
   ]
  },
  {
   "cell_type": "code",
   "execution_count": 27,
   "id": "3506f977-ac0a-473f-85bc-eec9f35dc498",
   "metadata": {},
   "outputs": [],
   "source": [
    "def add_mult_matrices(matrix1, matrix2, operationer):\n",
    "    \n",
    "    \"\"\"Addition and multiplication in two matrices,\n",
    "    \n",
    "    Parameter: \n",
    "    matrix1 (numpy.ndarray): The fist matrix\n",
    "    matris2 (numpy.ndarray): The second matrix.\n",
    "    operationer (str): Either 'add' or 'multiply' \n",
    "    \n",
    "    Returns:\n",
    "    numpy.ndarray: The result of the operation.\n",
    "    \n",
    "    Raises:\n",
    "    ValueError: If input values are incorrect or if the size of dimensions are not equal.\"\"\"\n",
    "    \n",
    "    if not isinstance (matrix1, np.ndarray) or not isinstance (matrix2, np.ndarray):\n",
    "        raise ValueError(\"Both input must be of type numpy.ndarray\")\n",
    "    if operationer not in [\"add\", \"multiply\"]:\n",
    "        raise ValueError(\"Operationer must be add or multiply\")\n",
    "    \n",
    "    if operationer == \"add\": \n",
    "        if matrix1.shape != matrix2.shape:\n",
    "            raise ValueError(\"Matrix1 and matrix2 must have the same dimensions for addition\")\n",
    "        return matrix1 + matrix2\n",
    "    \n",
    "    if operationer == \"multiply\":\n",
    "        if matrix1.shape != matrix2.shape:\n",
    "            raise ValueError(\"Number of columns in Matrix1 must be equal to the number of rows in matrix2.\")\n",
    "        return np.dot(matrix1, matrix2)\n",
    "    \n",
    "    A = np.array([2,4],[1,6])\n",
    "    B = np.array([4,2],[3,4])\n",
    "    \n",
    "    add_result = add_mult_matrices (A, B, \"add\")\n",
    "    print(\"Sum of matrices:\\n\", add_result)\n",
    "    \n",
    "    mult_result = add_mult_matrices (A,B, \"multiply\")\n",
    "    print(\"Multiplication of matrices:\\n\", mult_result)\n",
    "        \n",
    "        "
   ]
  },
  {
   "cell_type": "markdown",
   "id": "8dad82d0-2359-4dff-8f5b-a57d3e34103c",
   "metadata": {},
   "source": [
    "### Solve all the exercises in chapter 10.1 in the book \"Matematik för yrkeshögskolan\". "
   ]
  },
  {
   "cell_type": "code",
   "execution_count": 28,
   "id": "89df88af-3668-4d98-a0a4-e6d92eea0f89",
   "metadata": {},
   "outputs": [
    {
     "name": "stdout",
     "output_type": "stream",
     "text": [
      "dimension av x är 1\n",
      "5x = [20 15]\n",
      "3x = [12  9]\n",
      "5x + 3x = [32 24]\n",
      "8x = [32 24]\n",
      "4x - x = [12  9]\n",
      "x^T = [4 3]\n",
      "Dimensionen efter transpornering blir: 2\n",
      "Avståndet mellan de två vektorer är: 5.0\n"
     ]
    }
   ],
   "source": [
    "import numpy as np\n",
    "\n",
    "# Uppgift 10.1.1. Definera vektorn x\n",
    "\n",
    "x = np.array([4,3])\n",
    "dimension = x.ndim\n",
    "print(\"dimension av x är\", dimension) \n",
    "\n",
    "print(\"5x =\", 5*x)\n",
    "print(\"3x =\", 3*x)\n",
    "print(\"5x + 3x =\", 5*x + 3*x)\n",
    "print(\"8x =\", 8*x)\n",
    "print(\"4x - x =\", 4*x - x)\n",
    "\n",
    "#Beräkna nya dimensionen efter att transporterings utförs.\n",
    "\n",
    "x_transpoded = x.T\n",
    "print(\"x^T =\", x_transpoded)\n",
    "print(\"Dimensionen efter transponering blir:\", x_transpoded.shape[0])\n",
    "\n",
    "# Beräkna ||x||\n",
    "norm_x = np.linalg.norm(x)\n",
    "print(\"Avståndet mellan de två vektorer är:\", norm_x) \n"
   ]
  },
  {
   "cell_type": "code",
   "execution_count": 40,
   "id": "3d32c382",
   "metadata": {},
   "outputs": [
    {
     "name": "stdout",
     "output_type": "stream",
     "text": [
      "dimension av vektorn v är: 4\n",
      "2v = [ 6 14  0 22]\n",
      "5v + 2v = [21 49  0 77]\n",
      "4v - 2v = [ 6 14  0 22]\n",
      "Dimensionen efter transponering blir: 4\n",
      "Norm av v: 13.379088160259652\n"
     ]
    }
   ],
   "source": [
    "# Definiera vektorn v enligt nedan:\n",
    "\n",
    "v = np.array([3,7,0,11])\n",
    "dimension = v.shape[0]\n",
    "print(\"dimension av vektorn v är:\", dimension)\n",
    "\n",
    "print(\"2v =\", 2*v)\n",
    "print(\"5v + 2v =\", 5*v + 2*v)\n",
    "print(\"4v - 2v =\", 4*v -2*v)\n",
    "\n",
    "\n",
    "#Beräkna v^T, vilken blir den nya dimensionen efter att transponeringen utförts?\n",
    "v_transpoded = v.T\n",
    "print(\"Dimensionen efter transponering blir:\", v_transpoded.shape[0])\n",
    "\n",
    "#Beräkna ||v||\n",
    "\n",
    "norm_v = np.linalg.norm(v)\n",
    "print(\"Norm av v:\", norm_v)\n"
   ]
  },
  {
   "cell_type": "code",
   "execution_count": 49,
   "id": "818c15d8",
   "metadata": {},
   "outputs": [
    {
     "name": "stdout",
     "output_type": "stream",
     "text": [
      "Norm av v1: 7.14142842854285\n",
      "Beräkning av v1-v2 blir: [2 0 0 4]\n",
      "Normen av v1 - v2 är: 4.47213595499958\n"
     ]
    }
   ],
   "source": [
    "# Beräkna 10.1.3 Definera vektorerna v1 = (4,3,1,5) och v2= (2,3,1,1)\n",
    "\n",
    "v1 = np.array([4,3,1,5])\n",
    "v2 = np.array([2,3,1,1])\n",
    "\n",
    "norm_v1 = np.linalg.norm(v1)\n",
    "print(\"Norm av v1:\", norm_v1)\n",
    "\n",
    "# Beräkna ||v1-v2||\n",
    "v_subtraktion=  v1 - v2\n",
    "print(\"Beräkning av v1-v2 blir:\", v_subtraktion)\n",
    "\n",
    "norm_subtraktion = np.linalg.norm(v_subtraktion)\n",
    "print(\"Normen av v1 - v2 är:\", norm_subtraktion)\n",
    "\n"
   ]
  },
  {
   "cell_type": "markdown",
   "id": "75c98984-1f88-4df1-b850-d2466de444a5",
   "metadata": {},
   "source": [
    "### Solve all the exercises, except 10.2.4, in chapter 10.2 in the book \"Matematik för yrkeshögskolan\". "
   ]
  },
  {
   "cell_type": "code",
   "execution_count": 15,
   "id": "65371610-16e1-48b2-b7fb-65e49002608a",
   "metadata": {},
   "outputs": [
    {
     "name": "stdout",
     "output_type": "stream",
     "text": [
      "2A = [ 4  2 -2  2 -2  2]\n",
      "B -2A = [ 0 -4  3  0 -2 -4]\n",
      "3C - 2E = är ej definerat\n",
      "2D - 3C = [3 2 2 3]\n",
      "D^T + 2D = [ 9 12 12  9]\n",
      "2C^T - 2D^T = [-4 -4 -4 -4]\n",
      "A^T - B = [-2  3 -2 -1  3  3]\n",
      "AC = är ej definerat\n",
      "CD = [3 8 8 3]\n",
      "CB = är ej definerat. Antalet kolumner i C inte matchar antalet rader i B.\n",
      "CI = [1 0 0 1]\n",
      "AB^T = [ 8 -2 -1  2  4 -2]\n"
     ]
    }
   ],
   "source": [
    "# Uppgifter 10.2.1. Definiera matriserna:\n",
    "\n",
    "A = np.array([2, 1, -1, 1, -1, 1])\n",
    "B = np.array([4, -2, 1, 2, -4, -2])\n",
    "C = np.array([1, 2, 2, 1])\n",
    "D = np.array([3, 4, 4, 3])\n",
    "E = np.array([1, 2])\n",
    "I = np.array([1, 0, 0, 1])\n",
    "\n",
    "print(\"2A =\", 2*A)\n",
    "print(\"B -2A =\", B - 2*A)\n",
    "print(\"3C - 2E = är ej definerat\")\n",
    "print(\"2D - 3C =\", 2*D - 3*C)\n",
    "print(\"D^T + 2D =\", D.T + 2*D)\n",
    "print(\"2C^T - 2D^T =\", 2*C.T - 2*D.T)\n",
    "print(\"A^T - B =\", A.T - B)\n",
    "print(\"AC = är ej definerat\")\n",
    "print(\"CD =\", C*D)\n",
    "print(\"CB = är ej definerat. Antalet kolumner i C inte matchar antalet rader i B.\")\n",
    "print(\"CI =\", C*I)\n",
    "print(\"AB^T =\", A*B.T)\n"
   ]
  },
  {
   "cell_type": "code",
   "execution_count": 29,
   "id": "a8e2ecdc",
   "metadata": {},
   "outputs": [
    {
     "name": "stdout",
     "output_type": "stream",
     "text": [
      "[ 4  9 16 25 16  1]\n"
     ]
    }
   ],
   "source": [
    "# Uppgift 10.2.2. Definiera matrisen.\n",
    "\n",
    "A = np.array([2, 3, 4, 5, 4, 1])\n",
    "print(A*A.T)\n",
    "\n"
   ]
  },
  {
   "cell_type": "code",
   "execution_count": 39,
   "id": "c3951aa1",
   "metadata": {},
   "outputs": [
    {
     "name": "stdout",
     "output_type": "stream",
     "text": [
      "AB = AC: True\n"
     ]
    }
   ],
   "source": [
    "# Uppgift 10.2.3. definiera matriserna.\n",
    "A = np.array ([1, 2, 2, 4]) \n",
    "B = np.array([2, 1, 1, 3]) \n",
    "C = np.array([4, 3, 0, 2])\n",
    "\n",
    "AB = np.dot(A, B)\n",
    "AC = np.dot(A, C)\n",
    "\n",
    "#Resultat\n",
    "compare_ = np.array_equal(AB, AC)\n",
    "print(\"AB = AC:\", compare_)\n",
    "\n",
    "\n"
   ]
  },
  {
   "cell_type": "markdown",
   "id": "6a4a524f",
   "metadata": {},
   "source": [
    "### Copies and Views\n",
    "Read the following link: https://numpy.org/doc/stable/user/basics.copies.html"
   ]
  },
  {
   "cell_type": "markdown",
   "id": "6cbbeaf7",
   "metadata": {},
   "source": [
    "**Basic indexing creates a view, How can you check if v1 and v2 is a view or copy? If you change the last element in v2 to 123, will the last element in v1 be changed? Why?**"
   ]
  },
  {
   "cell_type": "code",
   "execution_count": 41,
   "id": "5b9ef4df",
   "metadata": {},
   "outputs": [
    {
     "name": "stdout",
     "output_type": "stream",
     "text": [
      "[0 1 2 3]\n",
      "[2 3]\n"
     ]
    }
   ],
   "source": [
    "v1 = np.arange(4)\n",
    "v2 = v1[-2:]\n",
    "print(v1)\n",
    "print(v2)"
   ]
  },
  {
   "cell_type": "code",
   "execution_count": 43,
   "id": "d2440489",
   "metadata": {},
   "outputs": [
    {
     "name": "stdout",
     "output_type": "stream",
     "text": [
      "None\n",
      "[0 1 2 3]\n"
     ]
    }
   ],
   "source": [
    "# The base attribute of a view returns the original array while it returns None for a copy.\n",
    "print(v1.base)\n",
    "print(v2.base)"
   ]
  },
  {
   "cell_type": "code",
   "execution_count": null,
   "id": "b2980fd9",
   "metadata": {},
   "outputs": [],
   "source": [
    "# Svar: När man använder .base och det blir \"none\" det betyder att arrayen är en kopia. Om det är en annan array, så är det view av en array. \n"
   ]
  },
  {
   "cell_type": "code",
   "execution_count": 45,
   "id": "c8752807",
   "metadata": {},
   "outputs": [
    {
     "name": "stdout",
     "output_type": "stream",
     "text": [
      "[  0   1   2 123]\n",
      "[  2 123]\n"
     ]
    }
   ],
   "source": [
    "# The last element in v1 will be changed aswell since v2 is a view, meaning they share the same data buffer.\n",
    "v2[-1] = 123\n",
    "print(v1)\n",
    "print(v2)"
   ]
  }
 ],
 "metadata": {
  "kernelspec": {
   "display_name": "Python 3",
   "language": "python",
   "name": "python3"
  },
  "language_info": {
   "codemirror_mode": {
    "name": "ipython",
    "version": 3
   },
   "file_extension": ".py",
   "mimetype": "text/x-python",
   "name": "python",
   "nbconvert_exporter": "python",
   "pygments_lexer": "ipython3",
   "version": "3.12.6"
  }
 },
 "nbformat": 4,
 "nbformat_minor": 5
}
